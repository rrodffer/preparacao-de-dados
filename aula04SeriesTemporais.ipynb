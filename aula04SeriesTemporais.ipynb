{
 "cells": [
  {
   "cell_type": "code",
   "execution_count": 3,
   "metadata": {},
   "outputs": [],
   "source": [
    "import warnings\n",
    "\n",
    "import matplotlib.pyplot as plt\n",
    "import numpy as np\n",
    "import pandas as pd\n",
    "import seaborn as sns\n",
    "from matplotlib import rcParams\n",
    "\n",
    "# Vamos usar yfinance para carregar dados de preços de ações da B3\n",
    "import yfinance as yf\n",
    "\n",
    "rcParams[\"xtick.labelsize\"] = 15\n",
    "rcParams[\"ytick.labelsize\"] = 15\n",
    "rcParams[\"legend.fontsize\"] = \"small\"\n",
    "\n",
    "warnings.filterwarnings(\"ignore\")"
   ]
  },
  {
   "cell_type": "code",
   "execution_count": 32,
   "metadata": {},
   "outputs": [
    {
     "data": {
      "text/html": [
       "<div>\n",
       "<style scoped>\n",
       "    .dataframe tbody tr th:only-of-type {\n",
       "        vertical-align: middle;\n",
       "    }\n",
       "\n",
       "    .dataframe tbody tr th {\n",
       "        vertical-align: top;\n",
       "    }\n",
       "\n",
       "    .dataframe thead th {\n",
       "        text-align: right;\n",
       "    }\n",
       "</style>\n",
       "<table border=\"1\" class=\"dataframe\">\n",
       "  <thead>\n",
       "    <tr style=\"text-align: right;\">\n",
       "      <th></th>\n",
       "      <th>petr</th>\n",
       "      <th>vale</th>\n",
       "    </tr>\n",
       "    <tr>\n",
       "      <th>Date</th>\n",
       "      <th></th>\n",
       "      <th></th>\n",
       "    </tr>\n",
       "  </thead>\n",
       "  <tbody>\n",
       "    <tr>\n",
       "      <th>2023-03-01 00:00:00-03:00</th>\n",
       "      <td>19.648865</td>\n",
       "      <td>84.505526</td>\n",
       "    </tr>\n",
       "    <tr>\n",
       "      <th>2023-03-02 00:00:00-03:00</th>\n",
       "      <td>19.834307</td>\n",
       "      <td>84.778275</td>\n",
       "    </tr>\n",
       "    <tr>\n",
       "      <th>2023-03-03 00:00:00-03:00</th>\n",
       "      <td>19.888393</td>\n",
       "      <td>84.928761</td>\n",
       "    </tr>\n",
       "    <tr>\n",
       "      <th>2023-03-06 00:00:00-03:00</th>\n",
       "      <td>20.182006</td>\n",
       "      <td>82.671510</td>\n",
       "    </tr>\n",
       "    <tr>\n",
       "      <th>2023-03-07 00:00:00-03:00</th>\n",
       "      <td>19.919299</td>\n",
       "      <td>82.201251</td>\n",
       "    </tr>\n",
       "  </tbody>\n",
       "</table>\n",
       "</div>"
      ],
      "text/plain": [
       "                                petr       vale\n",
       "Date                                           \n",
       "2023-03-01 00:00:00-03:00  19.648865  84.505526\n",
       "2023-03-02 00:00:00-03:00  19.834307  84.778275\n",
       "2023-03-03 00:00:00-03:00  19.888393  84.928761\n",
       "2023-03-06 00:00:00-03:00  20.182006  82.671510\n",
       "2023-03-07 00:00:00-03:00  19.919299  82.201251"
      ]
     },
     "execution_count": 32,
     "metadata": {},
     "output_type": "execute_result"
    }
   ],
   "source": [
    "petr4_vale3 = pd.read_csv(\"./files/petr_vale.csv\", parse_dates = [\"Date\"], index_col = \"Date\").dropna()\n",
    "\n",
    "petr4_vale3.head()\n",
    "                          "
   ]
  },
  {
   "cell_type": "code",
   "execution_count": 52,
   "metadata": {},
   "outputs": [
    {
     "name": "stdout",
     "output_type": "stream",
     "text": [
      "                               Open      High       Low     Close    Volume  \\\n",
      "Date                                                                          \n",
      "2023-03-01 00:00:00-03:00  104933.0  105497.0  103105.0  104385.0  19853000   \n",
      "2023-03-02 00:00:00-03:00  104375.0  104912.0  103321.0  103326.0  14738800   \n",
      "2023-03-03 00:00:00-03:00  103326.0  104440.0  103323.0  103866.0  13101500   \n",
      "2023-03-06 00:00:00-03:00  103865.0  105171.0  103170.0  104700.0  14277800   \n",
      "2023-03-07 00:00:00-03:00  104700.0  105179.0  103480.0  104228.0  12578200   \n",
      "...                             ...       ...       ...       ...       ...   \n",
      "2024-02-26 00:00:00-03:00  129417.0  129978.0  129077.0  129609.0   7436900   \n",
      "2024-02-27 00:00:00-03:00  129613.0  131696.0  129613.0  131689.0  10049000   \n",
      "2024-02-28 00:00:00-03:00  131685.0  131685.0  129771.0  130155.0   9045600   \n",
      "2024-02-29 00:00:00-03:00  130155.0  130155.0  128669.0  129020.0  12003100   \n",
      "2024-03-01 00:00:00-03:00  129026.0  129716.0  128717.0  129180.0   9765100   \n",
      "\n",
      "                           Dividends  Stock Splits  \n",
      "Date                                                \n",
      "2023-03-01 00:00:00-03:00        0.0           0.0  \n",
      "2023-03-02 00:00:00-03:00        0.0           0.0  \n",
      "2023-03-03 00:00:00-03:00        0.0           0.0  \n",
      "2023-03-06 00:00:00-03:00        0.0           0.0  \n",
      "2023-03-07 00:00:00-03:00        0.0           0.0  \n",
      "...                              ...           ...  \n",
      "2024-02-26 00:00:00-03:00        0.0           0.0  \n",
      "2024-02-27 00:00:00-03:00        0.0           0.0  \n",
      "2024-02-28 00:00:00-03:00        0.0           0.0  \n",
      "2024-02-29 00:00:00-03:00        0.0           0.0  \n",
      "2024-03-01 00:00:00-03:00        0.0           0.0  \n",
      "\n",
      "[250 rows x 7 columns]\n",
      "Date\n",
      "2023-03-01 00:00:00-03:00    105497.0\n",
      "2023-03-02 00:00:00-03:00    104912.0\n",
      "2023-03-03 00:00:00-03:00    104440.0\n",
      "2023-03-06 00:00:00-03:00    105171.0\n",
      "2023-03-07 00:00:00-03:00    105179.0\n",
      "Name: ibov, dtype: float64\n"
     ]
    }
   ],
   "source": [
    "# Defina o ticker do Ibovespa\n",
    "ticker = '^BVSP'\n",
    "\n",
    "ibovespa = yf.Ticker(ticker)\n",
    "\n",
    "# Obtenha o histórico de preços do Ibovespa\n",
    "ibovespa_hist = ibovespa.history(period='1y', interval='1d')\n",
    "print(ibovespa_hist)\n",
    "ibov = ibovespa_hist[\"High\"].rename(\"ibov\")\n",
    "# Exiba os primeiros registros dos dados\n",
    "print(ibov.head())"
   ]
  },
  {
   "cell_type": "code",
   "execution_count": 35,
   "metadata": {},
   "outputs": [
    {
     "data": {
      "text/plain": [
       "Date\n",
       "2023-03-01 00:00:00-03:00    105497.0\n",
       "2023-03-02 00:00:00-03:00    104912.0\n",
       "2023-03-03 00:00:00-03:00    104440.0\n",
       "2023-03-06 00:00:00-03:00    105171.0\n",
       "2023-03-07 00:00:00-03:00    105179.0\n",
       "Name: ibov, dtype: float64"
      ]
     },
     "execution_count": 35,
     "metadata": {},
     "output_type": "execute_result"
    }
   ],
   "source": [
    "ibov.head()"
   ]
  },
  {
   "cell_type": "code",
   "execution_count": 43,
   "metadata": {},
   "outputs": [
    {
     "data": {
      "text/plain": [
       "Date     object\n",
       "ibov    float64\n",
       "dtype: object"
      ]
     },
     "execution_count": 43,
     "metadata": {},
     "output_type": "execute_result"
    }
   ],
   "source": [
    "# Importar os dados com coluna de datas desconhecida\n",
    "ibovData = pd.read_csv(\"./files/ibov.csv\")\n",
    "\n",
    "# Inspecionar os dtypes\n",
    "ibovData.dtypes"
   ]
  },
  {
   "cell_type": "code",
   "execution_count": 44,
   "metadata": {},
   "outputs": [
    {
     "data": {
      "text/html": [
       "<div>\n",
       "<style scoped>\n",
       "    .dataframe tbody tr th:only-of-type {\n",
       "        vertical-align: middle;\n",
       "    }\n",
       "\n",
       "    .dataframe tbody tr th {\n",
       "        vertical-align: top;\n",
       "    }\n",
       "\n",
       "    .dataframe thead th {\n",
       "        text-align: right;\n",
       "    }\n",
       "</style>\n",
       "<table border=\"1\" class=\"dataframe\">\n",
       "  <thead>\n",
       "    <tr style=\"text-align: right;\">\n",
       "      <th></th>\n",
       "      <th>Date</th>\n",
       "      <th>ibov</th>\n",
       "    </tr>\n",
       "  </thead>\n",
       "  <tbody>\n",
       "    <tr>\n",
       "      <th>0</th>\n",
       "      <td>01-03-2023</td>\n",
       "      <td>105497.0</td>\n",
       "    </tr>\n",
       "    <tr>\n",
       "      <th>1</th>\n",
       "      <td>02-03-2023</td>\n",
       "      <td>104912.0</td>\n",
       "    </tr>\n",
       "    <tr>\n",
       "      <th>2</th>\n",
       "      <td>03-03-2023</td>\n",
       "      <td>104440.0</td>\n",
       "    </tr>\n",
       "    <tr>\n",
       "      <th>3</th>\n",
       "      <td>06-03-2023</td>\n",
       "      <td>105171.0</td>\n",
       "    </tr>\n",
       "    <tr>\n",
       "      <th>4</th>\n",
       "      <td>07-03-2023</td>\n",
       "      <td>105179.0</td>\n",
       "    </tr>\n",
       "  </tbody>\n",
       "</table>\n",
       "</div>"
      ],
      "text/plain": [
       "         Date      ibov\n",
       "0  01-03-2023  105497.0\n",
       "1  02-03-2023  104912.0\n",
       "2  03-03-2023  104440.0\n",
       "3  06-03-2023  105171.0\n",
       "4  07-03-2023  105179.0"
      ]
     },
     "execution_count": 44,
     "metadata": {},
     "output_type": "execute_result"
    }
   ],
   "source": [
    "ibovData.head()"
   ]
  },
  {
   "cell_type": "code",
   "execution_count": 48,
   "metadata": {},
   "outputs": [
    {
     "data": {
      "text/html": [
       "<div>\n",
       "<style scoped>\n",
       "    .dataframe tbody tr th:only-of-type {\n",
       "        vertical-align: middle;\n",
       "    }\n",
       "\n",
       "    .dataframe tbody tr th {\n",
       "        vertical-align: top;\n",
       "    }\n",
       "\n",
       "    .dataframe thead th {\n",
       "        text-align: right;\n",
       "    }\n",
       "</style>\n",
       "<table border=\"1\" class=\"dataframe\">\n",
       "  <thead>\n",
       "    <tr style=\"text-align: right;\">\n",
       "      <th></th>\n",
       "      <th>Date</th>\n",
       "      <th>ibov</th>\n",
       "    </tr>\n",
       "  </thead>\n",
       "  <tbody>\n",
       "    <tr>\n",
       "      <th>0</th>\n",
       "      <td>2023-03-01</td>\n",
       "      <td>105497.0</td>\n",
       "    </tr>\n",
       "    <tr>\n",
       "      <th>1</th>\n",
       "      <td>2023-03-02</td>\n",
       "      <td>104912.0</td>\n",
       "    </tr>\n",
       "    <tr>\n",
       "      <th>2</th>\n",
       "      <td>2023-03-03</td>\n",
       "      <td>104440.0</td>\n",
       "    </tr>\n",
       "    <tr>\n",
       "      <th>3</th>\n",
       "      <td>2023-03-06</td>\n",
       "      <td>105171.0</td>\n",
       "    </tr>\n",
       "    <tr>\n",
       "      <th>4</th>\n",
       "      <td>2023-03-07</td>\n",
       "      <td>105179.0</td>\n",
       "    </tr>\n",
       "  </tbody>\n",
       "</table>\n",
       "</div>"
      ],
      "text/plain": [
       "        Date      ibov\n",
       "0 2023-03-01  105497.0\n",
       "1 2023-03-02  104912.0\n",
       "2 2023-03-03  104440.0\n",
       "3 2023-03-06  105171.0\n",
       "4 2023-03-07  105179.0"
      ]
     },
     "execution_count": 48,
     "metadata": {},
     "output_type": "execute_result"
    }
   ],
   "source": [
    "ibovData[\"Date\"] = pd.to_datetime(ibovData[\"Date\"], format=\"%d-%m-%Y\", errors=\"coerce\")\n",
    "\n",
    "ibovData.head()"
   ]
  },
  {
   "cell_type": "code",
   "execution_count": 50,
   "metadata": {},
   "outputs": [
    {
     "name": "stdout",
     "output_type": "stream",
     "text": [
      "<class 'pandas.core.frame.DataFrame'>\n",
      "RangeIndex: 250 entries, 0 to 249\n",
      "Data columns (total 2 columns):\n",
      " #   Column  Non-Null Count  Dtype         \n",
      "---  ------  --------------  -----         \n",
      " 0   Date    250 non-null    datetime64[ns]\n",
      " 1   ibov    250 non-null    float64       \n",
      "dtypes: datetime64[ns](1), float64(1)\n",
      "memory usage: 4.0 KB\n"
     ]
    }
   ],
   "source": [
    "ibovData.info()"
   ]
  },
  {
   "cell_type": "code",
   "execution_count": 40,
   "metadata": {},
   "outputs": [
    {
     "name": "stdout",
     "output_type": "stream",
     "text": [
      "                ibov\n",
      "Date                \n",
      "2023-03-01  105497.0\n",
      "2023-03-02  104912.0\n",
      "2023-03-03  104440.0\n",
      "2023-03-06  105171.0\n",
      "2023-03-07  105179.0\n",
      "...              ...\n",
      "2024-02-26  129978.0\n",
      "2024-02-27  131696.0\n",
      "2024-02-28  131685.0\n",
      "2024-02-29  130155.0\n",
      "2024-03-01  129716.0\n",
      "\n",
      "[250 rows x 1 columns]\n"
     ]
    }
   ],
   "source": [
    "ibovData.set_index(\"Date\", inplace=True)\n",
    "print(ibovData)"
   ]
  },
  {
   "cell_type": "code",
   "execution_count": 51,
   "metadata": {},
   "outputs": [
    {
     "name": "stdout",
     "output_type": "stream",
     "text": [
      "                ibov\n",
      "Date                \n",
      "2023-03-01  105497.0\n",
      "2023-03-02  104912.0\n",
      "2023-03-03  104440.0\n",
      "2023-03-06  105171.0\n",
      "2023-03-07  105179.0\n",
      "...              ...\n",
      "2024-02-26  129978.0\n",
      "2024-02-27  131696.0\n",
      "2024-02-28  131685.0\n",
      "2024-02-29  130155.0\n",
      "2024-03-01  129716.0\n",
      "\n",
      "[250 rows x 1 columns]\n"
     ]
    }
   ],
   "source": [
    "ibovData.set_index(\"Date\", inplace=True)\n",
    "print(ibovData)"
   ]
  }
 ],
 "metadata": {
  "kernelspec": {
   "display_name": "Python 3",
   "language": "python",
   "name": "python3"
  },
  "language_info": {
   "codemirror_mode": {
    "name": "ipython",
    "version": 3
   },
   "file_extension": ".py",
   "mimetype": "text/x-python",
   "name": "python",
   "nbconvert_exporter": "python",
   "pygments_lexer": "ipython3",
   "version": "3.10.12"
  }
 },
 "nbformat": 4,
 "nbformat_minor": 2
}
