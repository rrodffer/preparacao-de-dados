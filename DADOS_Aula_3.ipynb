{
  "cells": [
    {
      "cell_type": "markdown",
      "id": "147afcd9-bc49-4921-a4e7-375493e7639c",
      "metadata": {
        "id": "147afcd9-bc49-4921-a4e7-375493e7639c"
      },
      "source": [
        "# Técnicas de Preparação de Dados (DADOS)"
      ]
    },
    {
      "cell_type": "markdown",
      "id": "a0aa130b-a5da-4ab0-b2fc-157b42ab3323",
      "metadata": {
        "id": "a0aa130b-a5da-4ab0-b2fc-157b42ab3323"
      },
      "source": [
        "# Contexto\n",
        "\n",
        "*   Regulamentação do mercado de **combustíveis**\n",
        "*   Programa de **monitoramento** da **qualidade** dos combustíveis (**PMQC**)\n",
        "   \n",
        "> *L9478/1997 Art. 8o* - A ANP terá como finalidade promover a regulação, a contratação e a fiscalização das atividades econômicas integrantes da indústria do petróleo, do gás natural e dos biocombustíveis, cabendo-lhe: ...\n",
        "\n",
        "> XI - **organizar e manter o acervo das informações e dados técnicos** relativos às atividades reguladas da indústria do petróleo, do gás natural e dos biocombustíveis;   ...\n",
        "\n",
        "> XVI - **regular e autorizar** as atividades relacionadas à produção, à importação, à exportação, à armazenagem, à estocagem, ao transporte, à transferência, à distribuição, à revenda e à comercialização de biocombustíveis, assim como avaliação de conformidade e certificação de sua qualidade, **fiscalizando-as** diretamente ou mediante convênios com outros órgãos da União, Estados, Distrito Federal ou Municípios;   ...\n",
        "\n",
        "> XVIII - **especificar a qualidade** dos derivados de petróleo, gás natural e seus derivados e dos biocombustíveis.\n",
        "\n",
        "## Hipóteses a serem exploradas\n",
        "\n",
        "1.   Qualidade dos combustíveis varia entre regiões.\n",
        "2.   Qualidade tem melhorado com o tempo.\n",
        "3.   Há cadeias de distribuição ruins.\n",
        "4.   Em momentos específicos houve aumento de qualidade.\n",
        "5.   Há relação entre o preço dos combustíveis e sua qualidade. (https://www.kaggle.com/code/dsrdavi/analise-de-precos-de-combustiveis-no-brasil/notebook)\n",
        "https://basedosdados.org/dataset/6ea3e28a-42be-401a-a066-ad87ca931e69?table=3a7cb29a-0bdf-4f44-bab1-d27872e565ff\n",
        "\n",
        "6.   Gasolina tem menor qualidade que etanol.\n",
        "7.   ...\n",
        "\n",
        "## Repositório dos dados\n",
        "\n",
        "> https://dados.gov.br/dados/conjuntos-dados/pmqc---programa-de-monitoramento-da-qualidade-dos-combustiveis\n",
        "\n",
        "> *Levantamento dos indicadores gerais da qualidade dos combustíveis comercializados no País e a identificação de focos de não conformidade, visando à simetria de informações e a orientar e aperfeiçoar a atuação da área de fiscalização.*\n"
      ]
    },
    {
      "cell_type": "markdown",
      "source": [
        "\n",
        "## Conhecendo os dados: perguntas\n",
        "\n",
        "#### 1.   Quais dados estão disponíveis? Existem dados de quais períodos (mês/ano inicial e final) ?"
      ],
      "metadata": {
        "id": "pWO1QZu0VjS4"
      },
      "id": "pWO1QZu0VjS4"
    },
    {
      "cell_type": "markdown",
      "source": [
        " ### Resposta 1:\n",
        "\n",
        "> *Escreva aqui.*\n",
        "\n"
      ],
      "metadata": {
        "id": "qMoQxyKBUDX9"
      },
      "id": "qMoQxyKBUDX9"
    },
    {
      "cell_type": "markdown",
      "source": [
        "### 2.   Dados nos arquivos do acervo têm dicionários/\"meta-dados\"?\n"
      ],
      "metadata": {
        "id": "wt2T_LuMUR-b"
      },
      "id": "wt2T_LuMUR-b"
    },
    {
      "cell_type": "markdown",
      "source": [
        "### Resposta 2:\n",
        "\n",
        "\n",
        "> *Escreva aqui.*\n"
      ],
      "metadata": {
        "id": "cZqVUQbTUTsE"
      },
      "id": "cZqVUQbTUTsE"
    },
    {
      "cell_type": "markdown",
      "source": [
        "### 3.   Dados possuem orientação de como fazer o carregamento?\n"
      ],
      "metadata": {
        "id": "aPJD0y0pUVB7"
      },
      "id": "aPJD0y0pUVB7"
    },
    {
      "cell_type": "markdown",
      "source": [
        "### Resposta 3:\n",
        "\n",
        "\n",
        "> *Escreva aqui.*\n"
      ],
      "metadata": {
        "id": "YrSnZJZkUV_n"
      },
      "id": "YrSnZJZkUV_n"
    },
    {
      "cell_type": "markdown",
      "source": [
        "### 4.   Quais formatos disponíveis?"
      ],
      "metadata": {
        "id": "H7mO2C9ZUXd7"
      },
      "id": "H7mO2C9ZUXd7"
    },
    {
      "cell_type": "markdown",
      "source": [
        "### Resposta 4:\n",
        "\n",
        "\n",
        "> *Escreva aqui.*\n",
        "\n"
      ],
      "metadata": {
        "id": "aHOoDhfsUYl1"
      },
      "id": "aHOoDhfsUYl1"
    },
    {
      "cell_type": "markdown",
      "source": [
        "### 5.   Quais potenciais hipóteses podem ser verificadas?\n"
      ],
      "metadata": {
        "id": "11Ax-rtBUcEt"
      },
      "id": "11Ax-rtBUcEt"
    },
    {
      "cell_type": "markdown",
      "source": [
        "### Resposta 5:\n",
        "\n",
        "\n",
        "> *Escreva aqui.*\n",
        "\n"
      ],
      "metadata": {
        "id": "tC6dfY6cUdwj"
      },
      "id": "tC6dfY6cUdwj"
    },
    {
      "cell_type": "markdown",
      "source": [
        "### 6.   Reordene e adicione itens na lista de hipóteses possivelmente simplificadas) da mais facil de responder à mais díficil usando os dados do PMQC"
      ],
      "metadata": {
        "id": "PemhJne1UgAw"
      },
      "id": "PemhJne1UgAw"
    },
    {
      "cell_type": "markdown",
      "source": [
        "### Resposta 6:\n",
        "\n",
        "\n",
        "> *Escreva aqui.*\n",
        "\n"
      ],
      "metadata": {
        "id": "ofEc1wFBUgiM"
      },
      "id": "ofEc1wFBUgiM"
    },
    {
      "cell_type": "markdown",
      "source": [
        "# Caso concreto: PMQC\n",
        "\n",
        "Vamos primeiro identificar quais são as colunas presentes no conjunto PMQC. Para isso, use as funções `read_csv()` e `info()` do pandas."
      ],
      "metadata": {
        "id": "CcyxBnZKbj6C"
      },
      "id": "CcyxBnZKbj6C"
    },
    {
      "cell_type": "code",
      "source": [
        "mes2016_02_url = \"https://www.gov.br/anp/pt-br/centrais-de-conteudo/dados-abertos/arquivos/pmqc/2016/pmqc_2016_02.csv\"\n",
        "#df = pd.read_csv(PREENCHA AQUI)"
      ],
      "metadata": {
        "id": "SO1-xlhm18mh"
      },
      "id": "SO1-xlhm18mh",
      "execution_count": null,
      "outputs": []
    },
    {
      "cell_type": "code",
      "source": [
        "#df.info()"
      ],
      "metadata": {
        "id": "50DwBI_o2qdB"
      },
      "id": "50DwBI_o2qdB",
      "execution_count": null,
      "outputs": []
    },
    {
      "cell_type": "markdown",
      "source": [
        "\n",
        "Os dados de PMQC ao longo dos anos estão espalhados em *um arquivo para cada mês*. Precisamos juntá-los. Para isso existe a função `pandas.concat()`. Ela pode juntar mais de um `DataFrame` no sentido das linhas ou no sentido das colunas (com o argumento `axis = 1`).\n",
        "\n",
        "\n"
      ],
      "metadata": {
        "id": "dC-FTIlsvrid"
      },
      "id": "dC-FTIlsvrid"
    },
    {
      "cell_type": "markdown",
      "source": [
        "Passo a passo:\n",
        "*   Escreva um for que varia do ano 2016 ao ano 2022\n",
        "*   Escreva outro for que varia do mês 1 ao mês 12\n",
        "*   Forme a string que representa a URL para baixar esse ano e esse mês\n",
        "*   Use a função `concat()` do `pandas` para unir datasets ao longo dos meses e anos"
      ],
      "metadata": {
        "id": "bl6EEtefcUdL"
      },
      "id": "bl6EEtefcUdL"
    },
    {
      "cell_type": "code",
      "source": [
        "# Dados foram obtidos em https://www.gov.br/anp/pt-br/centrais-de-conteudo/dados-abertos/arquivos/pmqc/2016 (... até 2023)\n",
        "# Nomes dos arquivos foram padronizados em  https://www.facom.ufu.br/~albertini/dados/pmqc/pmqc_AAAA_MM.csv\n",
        "\n",
        "# De 2016/01 a 2018/12 usa formato https://www.gov.br/anp/pt-br/centrais-de-conteudo/dados-abertos/arquivos/pmqc/2016/pmqc_AAAA_MM.[json,csv]\n",
        "# https://www.gov.br/anp/pt-br/centrais-de-conteudo/dados-abertos/arquivos/pmqc/2016/pmqc_2016_01.csv\n",
        "# De 2019/01 a 2022/06 usa\n",
        "# https://www.gov.br/anp/pt-br/centrais-de-conteudo/dados-abertos/arquivos/pmqc/2019/2019-01-pmqc.csv\n",
        "#https://www.gov.br/anp/pt-br/centrais-de-conteudo/dados-abertos/arquivos/pmqc/2022/2022-06-pmqc.csv\n",
        "# De 2022/07 a 2022/12 usa\n",
        "#https://www.gov.br/anp/pt-br/centrais-de-conteudo/dados-abertos/arquivos/pmqc/2022/pmqc_2022_07.csv\n",
        "# De 2023/01 a 2023/11 usa\n",
        "#https://www.gov.br/anp/pt-br/centrais-de-conteudo/dados-abertos/arquivos/pmqc/2023/pmqc-01.csv\n",
        "#https://www.gov.br/anp/pt-br/centrais-de-conteudo/dados-abertos/arquivos/pmqc/2023/pmqc-11.csv\n",
        "\n",
        "import pandas as pd\n",
        "\n",
        "pmqc = pd.DataFrame()\n",
        "\n",
        "for ano in range(2020, 2022): # existem dados de 01/2016 a 11/2023\n",
        "  for mes in range(1, 13):\n",
        "\n",
        "    if mes < 10:\n",
        "      mes = '0'+str(mes)\n",
        "\n",
        "    url = \"https://www.facom.ufu.br/~albertini/dados/pmqc/pmqc_\"+str(ano)+\"_\"+str(mes)+\".csv\"\n",
        "    if ano == 2023 and mes == 22: break  # ainda não existe esse arquivo\n",
        "\n",
        "    pmqc = pd.concat( [pmqc, pd.read_csv(url, sep = ';')] )\n",
        "    print(pmqc.shape)\n"
      ],
      "metadata": {
        "id": "_jqbpcT2vsL_"
      },
      "id": "_jqbpcT2vsL_",
      "execution_count": null,
      "outputs": []
    },
    {
      "cell_type": "markdown",
      "source": [
        "\n",
        "As características medidas para verificação da qualidade, classificadas como `Conforme: Sim` ou `Conforme: Não` são `Aspecto`, `Condutividade Elétrica`, `Cor`, `Massa Específica a 20ºC`, `Potencial Hidrogeniônico (pH)`, `Teor Alcoólico` e `Teor de Hidrocarbonetos`."
      ],
      "metadata": {
        "id": "6yvJFetOcgEx"
      },
      "id": "6yvJFetOcgEx"
    },
    {
      "cell_type": "code",
      "source": [
        "pmqc.info()"
      ],
      "metadata": {
        "id": "QNBQdWSbdnN2"
      },
      "id": "QNBQdWSbdnN2",
      "execution_count": null,
      "outputs": []
    },
    {
      "cell_type": "markdown",
      "source": [
        "## Conhecendo os dados: quantos combustíveis distintos são vendidos no mercado brasileiro?"
      ],
      "metadata": {
        "id": "CSaXWmJHZHd5"
      },
      "id": "CSaXWmJHZHd5"
    },
    {
      "cell_type": "code",
      "source": [
        "# encontre a coluna que contém o tipo de combustíveis\n",
        "\n"
      ],
      "metadata": {
        "id": "Ira1tR12ZG-a"
      },
      "id": "Ira1tR12ZG-a",
      "execution_count": null,
      "outputs": []
    },
    {
      "cell_type": "markdown",
      "source": [
        "## Conhecendo os dados: existem registros \"Não conforme\" em Uberlândia?"
      ],
      "metadata": {
        "id": "k9_Ut-oneJsQ"
      },
      "id": "k9_Ut-oneJsQ"
    },
    {
      "cell_type": "code",
      "source": [],
      "metadata": {
        "id": "iCqPrVAGfScC"
      },
      "id": "iCqPrVAGfScC",
      "execution_count": null,
      "outputs": []
    },
    {
      "cell_type": "code",
      "source": [],
      "metadata": {
        "colab": {
          "base_uri": "https://localhost:8080/"
        },
        "id": "Fq4nCUBeeJgl",
        "outputId": "22f97a3b-a932-4675-d8e2-bbf1e23d14f6"
      },
      "id": "Fq4nCUBeeJgl",
      "execution_count": null,
      "outputs": [
        {
          "output_type": "execute_result",
          "data": {
            "text/plain": [
              "Município        Conforme\n",
              "NATAL            Não         23\n",
              "SAO PAULO        Não         21\n",
              "RIO DE JANEIRO   Não         17\n",
              "JOAO PESSOA      Não         15\n",
              "RECIFE           Não         11\n",
              "EXTREMOZ         Não         10\n",
              "PARNAMIRIM       Não          9\n",
              "DUQUE DE CAXIAS  Não          8\n",
              "CEARA-MIRIM      Não          7\n",
              "SENADOR CANEDO   Não          7\n",
              "Name: Conforme, dtype: int64"
            ]
          },
          "metadata": {},
          "execution_count": 8
        }
      ]
    },
    {
      "cell_type": "markdown",
      "source": [
        "## Reestruture a planilha para as medições das linhas virarem colunas\n",
        "*   Verifique o modo de uso da função `pivot`\n",
        "*   Faça linha de tipo de ensaio distinto mudar para uma coluna\n",
        "*   Lembre-se de remover dados duplicados com drop_duplicates"
      ],
      "metadata": {
        "id": "tTcNulKUcWul"
      },
      "id": "tTcNulKUcWul"
    },
    {
      "cell_type": "code",
      "source": [
        "combustivel_carros = pmqc.query( PRENCHA AQUI ) # selecione somente combustiveis de carros\n",
        "medicoes_por_linha = combustivel_carros[[ PREENCHA AQUI ]] # CONTINUE AQUI\n",
        "\n",
        "medicoes_por_linha.head()"
      ],
      "metadata": {
        "colab": {
          "base_uri": "https://localhost:8080/",
          "height": 255
        },
        "id": "KiHHhJU4R0-8",
        "outputId": "823f1c10-be02-41f4-bb16-61016c053dcc"
      },
      "id": "KiHHhJU4R0-8",
      "execution_count": null,
      "outputs": [
        {
          "output_type": "execute_result",
          "data": {
            "text/plain": [
              "Ensaio    Aspecto Condutividade Elétrica  Cor Massa Específica a 20°C  \\\n",
              "IdNumeric                                                               \n",
              "189941        Sim                    Sim  Sim                     Sim   \n",
              "189946        Sim                    Sim  Sim                     Sim   \n",
              "189951        Sim                    Sim  Sim                     Sim   \n",
              "189955        Sim                    Sim  Sim                     Sim   \n",
              "189957        Sim                    Sim  Sim                     Sim   \n",
              "\n",
              "Ensaio    Material Não Volátil Material Particulado Material não Volátil  \\\n",
              "IdNumeric                                                                  \n",
              "189941                     NaN                  NaN                  NaN   \n",
              "189946                     NaN                  NaN                  NaN   \n",
              "189951                     NaN                  NaN                  NaN   \n",
              "189955                     NaN                  NaN                  NaN   \n",
              "189957                     NaN                  NaN                  NaN   \n",
              "\n",
              "Ensaio    Potencial Hidrogeniônico (pH) Teor Alcoólico  \\\n",
              "IdNumeric                                                \n",
              "189941                              Sim            Sim   \n",
              "189946                              Sim            Sim   \n",
              "189951                              Sim            Sim   \n",
              "189955                              Sim            Sim   \n",
              "189957                              Sim            Sim   \n",
              "\n",
              "Ensaio    Teor de Hidrocarbonetos Teor de Metanol  \n",
              "IdNumeric                                          \n",
              "189941                        Sim             Sim  \n",
              "189946                        Sim             Sim  \n",
              "189951                        Sim             Sim  \n",
              "189955                        Sim             Sim  \n",
              "189957                        Sim             NaN  "
            ],
            "text/html": [
              "\n",
              "  <div id=\"df-2b274a94-57de-46c1-9504-7f6045ee08d9\" class=\"colab-df-container\">\n",
              "    <div>\n",
              "<style scoped>\n",
              "    .dataframe tbody tr th:only-of-type {\n",
              "        vertical-align: middle;\n",
              "    }\n",
              "\n",
              "    .dataframe tbody tr th {\n",
              "        vertical-align: top;\n",
              "    }\n",
              "\n",
              "    .dataframe thead th {\n",
              "        text-align: right;\n",
              "    }\n",
              "</style>\n",
              "<table border=\"1\" class=\"dataframe\">\n",
              "  <thead>\n",
              "    <tr style=\"text-align: right;\">\n",
              "      <th>Ensaio</th>\n",
              "      <th>Aspecto</th>\n",
              "      <th>Condutividade Elétrica</th>\n",
              "      <th>Cor</th>\n",
              "      <th>Massa Específica a 20°C</th>\n",
              "      <th>Material Não Volátil</th>\n",
              "      <th>Material Particulado</th>\n",
              "      <th>Material não Volátil</th>\n",
              "      <th>Potencial Hidrogeniônico (pH)</th>\n",
              "      <th>Teor Alcoólico</th>\n",
              "      <th>Teor de Hidrocarbonetos</th>\n",
              "      <th>Teor de Metanol</th>\n",
              "    </tr>\n",
              "    <tr>\n",
              "      <th>IdNumeric</th>\n",
              "      <th></th>\n",
              "      <th></th>\n",
              "      <th></th>\n",
              "      <th></th>\n",
              "      <th></th>\n",
              "      <th></th>\n",
              "      <th></th>\n",
              "      <th></th>\n",
              "      <th></th>\n",
              "      <th></th>\n",
              "      <th></th>\n",
              "    </tr>\n",
              "  </thead>\n",
              "  <tbody>\n",
              "    <tr>\n",
              "      <th>189941</th>\n",
              "      <td>Sim</td>\n",
              "      <td>Sim</td>\n",
              "      <td>Sim</td>\n",
              "      <td>Sim</td>\n",
              "      <td>NaN</td>\n",
              "      <td>NaN</td>\n",
              "      <td>NaN</td>\n",
              "      <td>Sim</td>\n",
              "      <td>Sim</td>\n",
              "      <td>Sim</td>\n",
              "      <td>Sim</td>\n",
              "    </tr>\n",
              "    <tr>\n",
              "      <th>189946</th>\n",
              "      <td>Sim</td>\n",
              "      <td>Sim</td>\n",
              "      <td>Sim</td>\n",
              "      <td>Sim</td>\n",
              "      <td>NaN</td>\n",
              "      <td>NaN</td>\n",
              "      <td>NaN</td>\n",
              "      <td>Sim</td>\n",
              "      <td>Sim</td>\n",
              "      <td>Sim</td>\n",
              "      <td>Sim</td>\n",
              "    </tr>\n",
              "    <tr>\n",
              "      <th>189951</th>\n",
              "      <td>Sim</td>\n",
              "      <td>Sim</td>\n",
              "      <td>Sim</td>\n",
              "      <td>Sim</td>\n",
              "      <td>NaN</td>\n",
              "      <td>NaN</td>\n",
              "      <td>NaN</td>\n",
              "      <td>Sim</td>\n",
              "      <td>Sim</td>\n",
              "      <td>Sim</td>\n",
              "      <td>Sim</td>\n",
              "    </tr>\n",
              "    <tr>\n",
              "      <th>189955</th>\n",
              "      <td>Sim</td>\n",
              "      <td>Sim</td>\n",
              "      <td>Sim</td>\n",
              "      <td>Sim</td>\n",
              "      <td>NaN</td>\n",
              "      <td>NaN</td>\n",
              "      <td>NaN</td>\n",
              "      <td>Sim</td>\n",
              "      <td>Sim</td>\n",
              "      <td>Sim</td>\n",
              "      <td>Sim</td>\n",
              "    </tr>\n",
              "    <tr>\n",
              "      <th>189957</th>\n",
              "      <td>Sim</td>\n",
              "      <td>Sim</td>\n",
              "      <td>Sim</td>\n",
              "      <td>Sim</td>\n",
              "      <td>NaN</td>\n",
              "      <td>NaN</td>\n",
              "      <td>NaN</td>\n",
              "      <td>Sim</td>\n",
              "      <td>Sim</td>\n",
              "      <td>Sim</td>\n",
              "      <td>NaN</td>\n",
              "    </tr>\n",
              "  </tbody>\n",
              "</table>\n",
              "</div>\n",
              "    <div class=\"colab-df-buttons\">\n",
              "\n",
              "  <div class=\"colab-df-container\">\n",
              "    <button class=\"colab-df-convert\" onclick=\"convertToInteractive('df-2b274a94-57de-46c1-9504-7f6045ee08d9')\"\n",
              "            title=\"Convert this dataframe to an interactive table.\"\n",
              "            style=\"display:none;\">\n",
              "\n",
              "  <svg xmlns=\"http://www.w3.org/2000/svg\" height=\"24px\" viewBox=\"0 -960 960 960\">\n",
              "    <path d=\"M120-120v-720h720v720H120Zm60-500h600v-160H180v160Zm220 220h160v-160H400v160Zm0 220h160v-160H400v160ZM180-400h160v-160H180v160Zm440 0h160v-160H620v160ZM180-180h160v-160H180v160Zm440 0h160v-160H620v160Z\"/>\n",
              "  </svg>\n",
              "    </button>\n",
              "\n",
              "  <style>\n",
              "    .colab-df-container {\n",
              "      display:flex;\n",
              "      gap: 12px;\n",
              "    }\n",
              "\n",
              "    .colab-df-convert {\n",
              "      background-color: #E8F0FE;\n",
              "      border: none;\n",
              "      border-radius: 50%;\n",
              "      cursor: pointer;\n",
              "      display: none;\n",
              "      fill: #1967D2;\n",
              "      height: 32px;\n",
              "      padding: 0 0 0 0;\n",
              "      width: 32px;\n",
              "    }\n",
              "\n",
              "    .colab-df-convert:hover {\n",
              "      background-color: #E2EBFA;\n",
              "      box-shadow: 0px 1px 2px rgba(60, 64, 67, 0.3), 0px 1px 3px 1px rgba(60, 64, 67, 0.15);\n",
              "      fill: #174EA6;\n",
              "    }\n",
              "\n",
              "    .colab-df-buttons div {\n",
              "      margin-bottom: 4px;\n",
              "    }\n",
              "\n",
              "    [theme=dark] .colab-df-convert {\n",
              "      background-color: #3B4455;\n",
              "      fill: #D2E3FC;\n",
              "    }\n",
              "\n",
              "    [theme=dark] .colab-df-convert:hover {\n",
              "      background-color: #434B5C;\n",
              "      box-shadow: 0px 1px 3px 1px rgba(0, 0, 0, 0.15);\n",
              "      filter: drop-shadow(0px 1px 2px rgba(0, 0, 0, 0.3));\n",
              "      fill: #FFFFFF;\n",
              "    }\n",
              "  </style>\n",
              "\n",
              "    <script>\n",
              "      const buttonEl =\n",
              "        document.querySelector('#df-2b274a94-57de-46c1-9504-7f6045ee08d9 button.colab-df-convert');\n",
              "      buttonEl.style.display =\n",
              "        google.colab.kernel.accessAllowed ? 'block' : 'none';\n",
              "\n",
              "      async function convertToInteractive(key) {\n",
              "        const element = document.querySelector('#df-2b274a94-57de-46c1-9504-7f6045ee08d9');\n",
              "        const dataTable =\n",
              "          await google.colab.kernel.invokeFunction('convertToInteractive',\n",
              "                                                    [key], {});\n",
              "        if (!dataTable) return;\n",
              "\n",
              "        const docLinkHtml = 'Like what you see? Visit the ' +\n",
              "          '<a target=\"_blank\" href=https://colab.research.google.com/notebooks/data_table.ipynb>data table notebook</a>'\n",
              "          + ' to learn more about interactive tables.';\n",
              "        element.innerHTML = '';\n",
              "        dataTable['output_type'] = 'display_data';\n",
              "        await google.colab.output.renderOutput(dataTable, element);\n",
              "        const docLink = document.createElement('div');\n",
              "        docLink.innerHTML = docLinkHtml;\n",
              "        element.appendChild(docLink);\n",
              "      }\n",
              "    </script>\n",
              "  </div>\n",
              "\n",
              "\n",
              "<div id=\"df-238244ac-2d23-42e4-ad8a-9e1c4e0445a8\">\n",
              "  <button class=\"colab-df-quickchart\" onclick=\"quickchart('df-238244ac-2d23-42e4-ad8a-9e1c4e0445a8')\"\n",
              "            title=\"Suggest charts\"\n",
              "            style=\"display:none;\">\n",
              "\n",
              "<svg xmlns=\"http://www.w3.org/2000/svg\" height=\"24px\"viewBox=\"0 0 24 24\"\n",
              "     width=\"24px\">\n",
              "    <g>\n",
              "        <path d=\"M19 3H5c-1.1 0-2 .9-2 2v14c0 1.1.9 2 2 2h14c1.1 0 2-.9 2-2V5c0-1.1-.9-2-2-2zM9 17H7v-7h2v7zm4 0h-2V7h2v10zm4 0h-2v-4h2v4z\"/>\n",
              "    </g>\n",
              "</svg>\n",
              "  </button>\n",
              "\n",
              "<style>\n",
              "  .colab-df-quickchart {\n",
              "      --bg-color: #E8F0FE;\n",
              "      --fill-color: #1967D2;\n",
              "      --hover-bg-color: #E2EBFA;\n",
              "      --hover-fill-color: #174EA6;\n",
              "      --disabled-fill-color: #AAA;\n",
              "      --disabled-bg-color: #DDD;\n",
              "  }\n",
              "\n",
              "  [theme=dark] .colab-df-quickchart {\n",
              "      --bg-color: #3B4455;\n",
              "      --fill-color: #D2E3FC;\n",
              "      --hover-bg-color: #434B5C;\n",
              "      --hover-fill-color: #FFFFFF;\n",
              "      --disabled-bg-color: #3B4455;\n",
              "      --disabled-fill-color: #666;\n",
              "  }\n",
              "\n",
              "  .colab-df-quickchart {\n",
              "    background-color: var(--bg-color);\n",
              "    border: none;\n",
              "    border-radius: 50%;\n",
              "    cursor: pointer;\n",
              "    display: none;\n",
              "    fill: var(--fill-color);\n",
              "    height: 32px;\n",
              "    padding: 0;\n",
              "    width: 32px;\n",
              "  }\n",
              "\n",
              "  .colab-df-quickchart:hover {\n",
              "    background-color: var(--hover-bg-color);\n",
              "    box-shadow: 0 1px 2px rgba(60, 64, 67, 0.3), 0 1px 3px 1px rgba(60, 64, 67, 0.15);\n",
              "    fill: var(--button-hover-fill-color);\n",
              "  }\n",
              "\n",
              "  .colab-df-quickchart-complete:disabled,\n",
              "  .colab-df-quickchart-complete:disabled:hover {\n",
              "    background-color: var(--disabled-bg-color);\n",
              "    fill: var(--disabled-fill-color);\n",
              "    box-shadow: none;\n",
              "  }\n",
              "\n",
              "  .colab-df-spinner {\n",
              "    border: 2px solid var(--fill-color);\n",
              "    border-color: transparent;\n",
              "    border-bottom-color: var(--fill-color);\n",
              "    animation:\n",
              "      spin 1s steps(1) infinite;\n",
              "  }\n",
              "\n",
              "  @keyframes spin {\n",
              "    0% {\n",
              "      border-color: transparent;\n",
              "      border-bottom-color: var(--fill-color);\n",
              "      border-left-color: var(--fill-color);\n",
              "    }\n",
              "    20% {\n",
              "      border-color: transparent;\n",
              "      border-left-color: var(--fill-color);\n",
              "      border-top-color: var(--fill-color);\n",
              "    }\n",
              "    30% {\n",
              "      border-color: transparent;\n",
              "      border-left-color: var(--fill-color);\n",
              "      border-top-color: var(--fill-color);\n",
              "      border-right-color: var(--fill-color);\n",
              "    }\n",
              "    40% {\n",
              "      border-color: transparent;\n",
              "      border-right-color: var(--fill-color);\n",
              "      border-top-color: var(--fill-color);\n",
              "    }\n",
              "    60% {\n",
              "      border-color: transparent;\n",
              "      border-right-color: var(--fill-color);\n",
              "    }\n",
              "    80% {\n",
              "      border-color: transparent;\n",
              "      border-right-color: var(--fill-color);\n",
              "      border-bottom-color: var(--fill-color);\n",
              "    }\n",
              "    90% {\n",
              "      border-color: transparent;\n",
              "      border-bottom-color: var(--fill-color);\n",
              "    }\n",
              "  }\n",
              "</style>\n",
              "\n",
              "  <script>\n",
              "    async function quickchart(key) {\n",
              "      const quickchartButtonEl =\n",
              "        document.querySelector('#' + key + ' button');\n",
              "      quickchartButtonEl.disabled = true;  // To prevent multiple clicks.\n",
              "      quickchartButtonEl.classList.add('colab-df-spinner');\n",
              "      try {\n",
              "        const charts = await google.colab.kernel.invokeFunction(\n",
              "            'suggestCharts', [key], {});\n",
              "      } catch (error) {\n",
              "        console.error('Error during call to suggestCharts:', error);\n",
              "      }\n",
              "      quickchartButtonEl.classList.remove('colab-df-spinner');\n",
              "      quickchartButtonEl.classList.add('colab-df-quickchart-complete');\n",
              "    }\n",
              "    (() => {\n",
              "      let quickchartButtonEl =\n",
              "        document.querySelector('#df-238244ac-2d23-42e4-ad8a-9e1c4e0445a8 button');\n",
              "      quickchartButtonEl.style.display =\n",
              "        google.colab.kernel.accessAllowed ? 'block' : 'none';\n",
              "    })();\n",
              "  </script>\n",
              "</div>\n",
              "\n",
              "    </div>\n",
              "  </div>\n"
            ],
            "application/vnd.google.colaboratory.intrinsic+json": {
              "type": "dataframe",
              "variable_name": "sub"
            }
          },
          "metadata": {},
          "execution_count": 82
        }
      ]
    },
    {
      "cell_type": "markdown",
      "source": [
        "## Descubra quantos postos de combustíveis vendem cada tipo de combustível em Uberlândia"
      ],
      "metadata": {
        "id": "ES5xR7FPZWWb"
      },
      "id": "ES5xR7FPZWWb"
    },
    {
      "cell_type": "code",
      "source": [
        "# agrupe e conte cada coluna para os dados somente de Uberlândia"
      ],
      "metadata": {
        "id": "OZfMnfIXZcGg"
      },
      "id": "OZfMnfIXZcGg",
      "execution_count": null,
      "outputs": []
    },
    {
      "cell_type": "markdown",
      "source": [
        "## Conhecendo os dados: encontre quantas linhas identificam não conformidade da coleta\n",
        "\n",
        "*    conte quantidade de linhas correspondentes a Conforme = Não"
      ],
      "metadata": {
        "id": "-wf5LOfedXpO"
      },
      "id": "-wf5LOfedXpO"
    },
    {
      "cell_type": "code",
      "source": [
        "preencha aqui"
      ],
      "metadata": {
        "colab": {
          "base_uri": "https://localhost:8080/"
        },
        "id": "zeMSSEzsAOao",
        "outputId": "369c52b1-aa8f-4175-a87b-fa4b200109f3"
      },
      "id": "zeMSSEzsAOao",
      "execution_count": null,
      "outputs": [
        {
          "output_type": "execute_result",
          "data": {
            "text/plain": [
              "Sim    5028914\n",
              "Não        604\n",
              "Name: Conforme, dtype: int64"
            ]
          },
          "metadata": {},
          "execution_count": 6
        }
      ]
    },
    {
      "cell_type": "markdown",
      "source": [
        "# Organização dos dados: separe conjunto de dados para obter um DataFrame para Etanol Comum e um para Gasolina Comum\n",
        "\n",
        "*    Note: combustível é  `Produto`"
      ],
      "metadata": {
        "id": "EN9EJ4fcR1w8"
      },
      "id": "EN9EJ4fcR1w8"
    },
    {
      "cell_type": "code",
      "source": [
        "pmqc.query(PREENCHA AQUI )"
      ],
      "metadata": {
        "id": "mnxZPaxkZ5fV"
      },
      "id": "mnxZPaxkZ5fV",
      "execution_count": null,
      "outputs": []
    },
    {
      "cell_type": "markdown",
      "source": [
        "## Conhecendo os dados: descubra quantas amostras não conformes há em cada UF. Qual estado tem mais amostras não conformes?"
      ],
      "metadata": {
        "id": "km1P0EcNd3cE"
      },
      "id": "km1P0EcNd3cE"
    },
    {
      "cell_type": "code",
      "source": [
        "pmqc.groupby(preencha aqui)"
      ],
      "metadata": {
        "id": "FWv9hQuteEWS"
      },
      "id": "FWv9hQuteEWS",
      "execution_count": null,
      "outputs": []
    },
    {
      "cell_type": "markdown",
      "source": [
        "## Conhecendo os dados: descubra as 10 municípios com mais amostras não conformes"
      ],
      "metadata": {
        "id": "BMHpa0kaeEuB"
      },
      "id": "BMHpa0kaeEuB"
    },
    {
      "cell_type": "markdown",
      "source": [
        "## Conhecendo os dados: identifique o número de registros por ano"
      ],
      "metadata": {
        "id": "BP1jyYZqfynI"
      },
      "id": "BP1jyYZqfynI"
    },
    {
      "cell_type": "code",
      "source": [],
      "metadata": {
        "id": "H2XqzM-Ef-C5"
      },
      "id": "H2XqzM-Ef-C5",
      "execution_count": null,
      "outputs": []
    },
    {
      "cell_type": "markdown",
      "source": [
        "## Conhecendo os dados: crie nova coluna contendo a região do país (N, NE, CO, SE, S)\n",
        "\n",
        "*    Use o dicionário de regiões passo juntamento com a função `map() para criar uma nova coluna chamada `Região`."
      ],
      "metadata": {
        "id": "iDdrASohgjrn"
      },
      "id": "iDdrASohgjrn"
    },
    {
      "cell_type": "code",
      "source": [
        "regioes = {\n",
        "    'AC': 'N',\n",
        "    'AL': 'NE',\n",
        "    'AP': 'N',\n",
        "    'AM': 'N',\n",
        "    'BA': 'NE',\n",
        "    'CE': 'NE',\n",
        "    'DF': 'CO',\n",
        "    'ES': 'SE',\n",
        "    'GO': 'CO',\n",
        "    'MA': 'NE',\n",
        "    'MT': 'CO',\n",
        "    'MS': 'CO',\n",
        "    'MG': 'SE',\n",
        "    'PA': 'N',\n",
        "    'PB': 'NE',\n",
        "    'PR': 'S',\n",
        "    'PE': 'NE',\n",
        "    'PI': 'NE',\n",
        "    'RJ': 'SE',\n",
        "    'RN': 'NE',\n",
        "    'RS': 'S',\n",
        "    'RO': 'N',\n",
        "    'RR': 'N',\n",
        "    'SC': 'S',\n",
        "    'SP': 'SE',\n",
        "    'SE': 'NE',\n",
        "    'DF': 'CO',\n",
        "    'TO': 'N'\n",
        "}\n",
        "\n",
        "pmqc['Regiao'] = pmqc['Uf'].map(regioes)\n"
      ],
      "metadata": {
        "id": "jbMmoZ2Kgi-m"
      },
      "id": "jbMmoZ2Kgi-m",
      "execution_count": null,
      "outputs": []
    },
    {
      "cell_type": "markdown",
      "source": [
        "## Conhecendo os dados: conte o número de amostras \"não conforme\" para cada Região do país"
      ],
      "metadata": {
        "id": "aUMopFlIhR25"
      },
      "id": "aUMopFlIhR25"
    },
    {
      "cell_type": "code",
      "source": [
        "pmqc[pmqc.Conforme == \"Não\"].groupby('Regiao').Conforme.value_counts()\n"
      ],
      "metadata": {
        "colab": {
          "base_uri": "https://localhost:8080/"
        },
        "id": "VSPaSHpQhHQL",
        "outputId": "5df492b0-d80d-42bd-ec4e-86f7a8e21737"
      },
      "id": "VSPaSHpQhHQL",
      "execution_count": null,
      "outputs": [
        {
          "output_type": "execute_result",
          "data": {
            "text/plain": [
              "Regiao  Conforme\n",
              "CO      Não          49\n",
              "N       Não           6\n",
              "NE      Não         326\n",
              "S       Não          31\n",
              "SE      Não         192\n",
              "Name: Conforme, dtype: int64"
            ]
          },
          "metadata": {},
          "execution_count": 12
        }
      ]
    },
    {
      "cell_type": "markdown",
      "source": [
        "## Conhecendo os dados: identifique postos (via CNPJ) com múltiplas repetições de amostras \"não conforme\""
      ],
      "metadata": {
        "id": "drB2__UUhkaf"
      },
      "id": "drB2__UUhkaf"
    },
    {
      "cell_type": "code",
      "source": [
        "repeticoes = pmqc[pmqc.Conforme == \"Não\"].groupby('CnpjPosto').size().sort_values(ascending=False)\n",
        "repeticoes[repeticoes > 1]"
      ],
      "metadata": {
        "colab": {
          "base_uri": "https://localhost:8080/"
        },
        "id": "IYgn0B1hhtv5",
        "outputId": "2d8e3dc1-edcf-4055-e042-fcbea46cbee6"
      },
      "id": "IYgn0B1hhtv5",
      "execution_count": null,
      "outputs": [
        {
          "output_type": "execute_result",
          "data": {
            "text/plain": [
              "CnpjPosto\n",
              "18.083.682/0001-09    6\n",
              "26.644.707/0001-24    5\n",
              "02.062.341/0001-17    4\n",
              "20.717.841/0001-21    3\n",
              "05.424.310/0001-57    3\n",
              "21.231.004/0001-50    3\n",
              "10.523.779/0001-83    3\n",
              "12.034.584/0001-03    3\n",
              "12.625.035/0001-03    3\n",
              "26.058.218/0001-90    2\n",
              "35.284.991/0002-47    2\n",
              "02.208.651/0001-05    2\n",
              "02.211.749/0015-09    2\n",
              "12.781.233/0007-43    2\n",
              "09.387.336/0001-23    2\n",
              "43.644.050/0001-14    2\n",
              "21.219.434/0001-57    2\n",
              "03.543.109/0001-63    2\n",
              "08.381.059/0005-02    2\n",
              "13.140.950/0001-63    2\n",
              "02.737.867/0003-11    2\n",
              "40.993.123/0001-95    2\n",
              "18.973.039/0001-50    2\n",
              "27.602.275/0001-51    2\n",
              "27.647.367/0001-58    2\n",
              "21.553.439/0001-11    2\n",
              "37.470.980/0001-04    2\n",
              "00.980.113/0001-09    2\n",
              "22.216.720/0002-02    2\n",
              "00.517.975/0001-91    2\n",
              "10.776.048/0002-20    2\n",
              "00.285.458/0001-34    2\n",
              "04.637.954/0001-60    2\n",
              "10.857.495/0001-23    2\n",
              "24.206.617/0019-55    2\n",
              "24.220.972/0002-30    2\n",
              "30.544.974/0001-05    2\n",
              "03.848.546/0001-95    2\n",
              "01.268.931/0001-38    2\n",
              "08.545.462/0003-68    2\n",
              "04.634.597/0001-87    2\n",
              "dtype: int64"
            ]
          },
          "metadata": {},
          "execution_count": 13
        }
      ]
    },
    {
      "cell_type": "markdown",
      "source": [
        "## Conhecendo os dados: verifique se alguma coleta pode ter resultado em mais de uma característica \"não conforme\" de combustível usando `IdNumeric`"
      ],
      "metadata": {
        "id": "XU1gsoHgiDHa"
      },
      "id": "XU1gsoHgiDHa"
    },
    {
      "cell_type": "code",
      "source": [
        "pmqc[pmqc.Conforme == \"Não\"].groupby(['IdNumeric']).Conforme.value_counts().sort_values(ascending=False)\n"
      ],
      "metadata": {
        "colab": {
          "base_uri": "https://localhost:8080/"
        },
        "id": "iRu-A5KMiAUN",
        "outputId": "f4ddbc85-eee1-42a2-8cae-46f2caf9284b"
      },
      "id": "iRu-A5KMiAUN",
      "execution_count": null,
      "outputs": [
        {
          "output_type": "execute_result",
          "data": {
            "text/plain": [
              "IdNumeric  Conforme\n",
              "778828     Não         5\n",
              "758799     Não         3\n",
              "769653     Não         3\n",
              "780260     Não         2\n",
              "757068     Não         2\n",
              "                      ..\n",
              "331602     Não         1\n",
              "332083     Não         1\n",
              "332884     Não         1\n",
              "333514     Não         1\n",
              "786233     Não         1\n",
              "Name: Conforme, Length: 585, dtype: int64"
            ]
          },
          "metadata": {},
          "execution_count": 14
        }
      ]
    },
    {
      "cell_type": "markdown",
      "source": [
        "## Conhecendo os dados: identifique postos (via CNPJ) com múltiplas repetições de coletas **diferentes** com alguma \"não conformidade\"\n",
        "\n",
        "*    Selecione apenas as coletas do IdNumeric da coleta e o CnpqPosto\n",
        "*    Use drop_duplicates para obter coletas diferentes"
      ],
      "metadata": {
        "id": "XTQeMI1mip5Y"
      },
      "id": "XTQeMI1mip5Y"
    },
    {
      "cell_type": "code",
      "source": [
        "pmqc[[\"IdNumeric\", \"CnpjPosto\"]][pmqc.Conforme == \"Não\"].sort_values(by=\"CnpjPosto\").drop_duplicates().groupby('CnpjPosto').size().sort_values(ascending=False)\n"
      ],
      "metadata": {
        "colab": {
          "base_uri": "https://localhost:8080/"
        },
        "id": "zJkXM92xi09u",
        "outputId": "684c8834-8f80-4701-aae0-9e00c6679608"
      },
      "id": "zJkXM92xi09u",
      "execution_count": null,
      "outputs": [
        {
          "output_type": "execute_result",
          "data": {
            "text/plain": [
              "CnpjPosto\n",
              "26.644.707/0001-24    5\n",
              "02.062.341/0001-17    4\n",
              "21.231.004/0001-50    3\n",
              "12.034.584/0001-03    3\n",
              "05.424.310/0001-57    3\n",
              "                     ..\n",
              "07.604.853/0001-81    1\n",
              "07.583.819/0001-78    1\n",
              "07.473.735/0040-98    1\n",
              "07.448.838/0001-91    1\n",
              "95.115.721/0001-53    1\n",
              "Length: 548, dtype: int64"
            ]
          },
          "metadata": {},
          "execution_count": 15
        }
      ]
    },
    {
      "cell_type": "code",
      "source": [
        "pmqc[(pmqc.CnpjPosto == \"26.644.707/0001-24\") & (pmqc.Conforme == \"Não\")]"
      ],
      "metadata": {
        "colab": {
          "base_uri": "https://localhost:8080/",
          "height": 487
        },
        "id": "MVnICf3-Qkzy",
        "outputId": "b712eb4b-3ef0-41f1-ed9c-d75245ead7f2"
      },
      "id": "MVnICf3-Qkzy",
      "execution_count": null,
      "outputs": [
        {
          "output_type": "execute_result",
          "data": {
            "text/plain": [
              "       DataColeta  IdNumeric GrupoProduto                  Produto  \\\n",
              "54058  2017-11-14     342265  Óleo Diesel  ÓLEO DIESEL B S10 COMUM   \n",
              "52333  2018-11-09     448080  Óleo Diesel  ÓLEO DIESEL B S10 COMUM   \n",
              "13822  2019-07-19     515487  Óleo Diesel  ÓLEO DIESEL B S10 COMUM   \n",
              "14363  2020-08-06     602631  Óleo Diesel  ÓLEO DIESEL B S10 COMUM   \n",
              "9841   2021-07-22     692773  Óleo Diesel  ÓLEO DIESEL B S10 COMUM   \n",
              "\n",
              "                          RazaoSocialPosto           CnpjPosto  \\\n",
              "54058  LITORAL NORTE COMERCIO EIRELI - EPP  26.644.707/0001-24   \n",
              "52333  LITORAL NORTE COMERCIO EIRELI - EPP  26.644.707/0001-24   \n",
              "13822        LITORAL NORTE COMERCIO EIRELI  26.644.707/0001-24   \n",
              "14363        LITORAL NORTE COMERCIO EIRELI  26.644.707/0001-24   \n",
              "9841                        26644707000124  26.644.707/0001-24   \n",
              "\n",
              "         Distribuidora                  Endereço Complemento    Bairro  \\\n",
              "54058  BANDEIRA BRANCA  RUA TREVO DE GENIPABU,01   ANEXO 1-B  GENIPABU   \n",
              "52333  BANDEIRA BRANCA  RUA TREVO DE GENIPABU,01   ANEXO 1-B  GENIPABU   \n",
              "13822  BANDEIRA BRANCA  RUA TREVO DE GENIPABU,01   ANEXO 1-B  GENIPABU   \n",
              "14363  BANDEIRA BRANCA  RUA TREVO DE GENIPABU,01   ANEXO 1-B  GENIPABU   \n",
              "9841   BANDEIRA BRANCA  RUA TREVO DE GENIPABU,01   ANEXO 1-B  GENIPABU   \n",
              "\n",
              "      Município  Latitude  Longitude  Uf RegiaoPolitica   Ensaio  \\\n",
              "54058  EXTREMOZ -5.689911 -35.221923  RN       NORDESTE  Aspecto   \n",
              "52333  EXTREMOZ -5.689911 -35.221923  RN       NORDESTE  Aspecto   \n",
              "13822  EXTREMOZ -5.689842 -35.221722  RN       NORDESTE  Aspecto   \n",
              "14363  EXTREMOZ -5.689842 -35.221722  RN       NORDESTE  Aspecto   \n",
              "9841   EXTREMOZ -5.689842 -35.221722  RN       NORDESTE  Aspecto   \n",
              "\n",
              "                                         Resultado UnidadeEnsaio Conforme  \\\n",
              "54058                  Turvo e isento de impurezas           NaN      Não   \n",
              "52333  Turvo com água livre e material particulado           NaN      Não   \n",
              "13822                  Turvo e isento de impurezas           NaN      Não   \n",
              "14363                  Turvo e isento de impurezas           NaN      Não   \n",
              "9841                   Turvo e isento de impurezas           NaN      Não   \n",
              "\n",
              "      Regiao  \n",
              "54058     NE  \n",
              "52333     NE  \n",
              "13822     NE  \n",
              "14363     NE  \n",
              "9841      NE  "
            ],
            "text/html": [
              "\n",
              "  <div id=\"df-ca966960-42e5-40ed-b845-93e83edc7e90\" class=\"colab-df-container\">\n",
              "    <div>\n",
              "<style scoped>\n",
              "    .dataframe tbody tr th:only-of-type {\n",
              "        vertical-align: middle;\n",
              "    }\n",
              "\n",
              "    .dataframe tbody tr th {\n",
              "        vertical-align: top;\n",
              "    }\n",
              "\n",
              "    .dataframe thead th {\n",
              "        text-align: right;\n",
              "    }\n",
              "</style>\n",
              "<table border=\"1\" class=\"dataframe\">\n",
              "  <thead>\n",
              "    <tr style=\"text-align: right;\">\n",
              "      <th></th>\n",
              "      <th>DataColeta</th>\n",
              "      <th>IdNumeric</th>\n",
              "      <th>GrupoProduto</th>\n",
              "      <th>Produto</th>\n",
              "      <th>RazaoSocialPosto</th>\n",
              "      <th>CnpjPosto</th>\n",
              "      <th>Distribuidora</th>\n",
              "      <th>Endereço</th>\n",
              "      <th>Complemento</th>\n",
              "      <th>Bairro</th>\n",
              "      <th>Município</th>\n",
              "      <th>Latitude</th>\n",
              "      <th>Longitude</th>\n",
              "      <th>Uf</th>\n",
              "      <th>RegiaoPolitica</th>\n",
              "      <th>Ensaio</th>\n",
              "      <th>Resultado</th>\n",
              "      <th>UnidadeEnsaio</th>\n",
              "      <th>Conforme</th>\n",
              "      <th>Regiao</th>\n",
              "    </tr>\n",
              "  </thead>\n",
              "  <tbody>\n",
              "    <tr>\n",
              "      <th>54058</th>\n",
              "      <td>2017-11-14</td>\n",
              "      <td>342265</td>\n",
              "      <td>Óleo Diesel</td>\n",
              "      <td>ÓLEO DIESEL B S10 COMUM</td>\n",
              "      <td>LITORAL NORTE COMERCIO EIRELI - EPP</td>\n",
              "      <td>26.644.707/0001-24</td>\n",
              "      <td>BANDEIRA BRANCA</td>\n",
              "      <td>RUA TREVO DE GENIPABU,01</td>\n",
              "      <td>ANEXO 1-B</td>\n",
              "      <td>GENIPABU</td>\n",
              "      <td>EXTREMOZ</td>\n",
              "      <td>-5.689911</td>\n",
              "      <td>-35.221923</td>\n",
              "      <td>RN</td>\n",
              "      <td>NORDESTE</td>\n",
              "      <td>Aspecto</td>\n",
              "      <td>Turvo e isento de impurezas</td>\n",
              "      <td>NaN</td>\n",
              "      <td>Não</td>\n",
              "      <td>NE</td>\n",
              "    </tr>\n",
              "    <tr>\n",
              "      <th>52333</th>\n",
              "      <td>2018-11-09</td>\n",
              "      <td>448080</td>\n",
              "      <td>Óleo Diesel</td>\n",
              "      <td>ÓLEO DIESEL B S10 COMUM</td>\n",
              "      <td>LITORAL NORTE COMERCIO EIRELI - EPP</td>\n",
              "      <td>26.644.707/0001-24</td>\n",
              "      <td>BANDEIRA BRANCA</td>\n",
              "      <td>RUA TREVO DE GENIPABU,01</td>\n",
              "      <td>ANEXO 1-B</td>\n",
              "      <td>GENIPABU</td>\n",
              "      <td>EXTREMOZ</td>\n",
              "      <td>-5.689911</td>\n",
              "      <td>-35.221923</td>\n",
              "      <td>RN</td>\n",
              "      <td>NORDESTE</td>\n",
              "      <td>Aspecto</td>\n",
              "      <td>Turvo com água livre e material particulado</td>\n",
              "      <td>NaN</td>\n",
              "      <td>Não</td>\n",
              "      <td>NE</td>\n",
              "    </tr>\n",
              "    <tr>\n",
              "      <th>13822</th>\n",
              "      <td>2019-07-19</td>\n",
              "      <td>515487</td>\n",
              "      <td>Óleo Diesel</td>\n",
              "      <td>ÓLEO DIESEL B S10 COMUM</td>\n",
              "      <td>LITORAL NORTE COMERCIO EIRELI</td>\n",
              "      <td>26.644.707/0001-24</td>\n",
              "      <td>BANDEIRA BRANCA</td>\n",
              "      <td>RUA TREVO DE GENIPABU,01</td>\n",
              "      <td>ANEXO 1-B</td>\n",
              "      <td>GENIPABU</td>\n",
              "      <td>EXTREMOZ</td>\n",
              "      <td>-5.689842</td>\n",
              "      <td>-35.221722</td>\n",
              "      <td>RN</td>\n",
              "      <td>NORDESTE</td>\n",
              "      <td>Aspecto</td>\n",
              "      <td>Turvo e isento de impurezas</td>\n",
              "      <td>NaN</td>\n",
              "      <td>Não</td>\n",
              "      <td>NE</td>\n",
              "    </tr>\n",
              "    <tr>\n",
              "      <th>14363</th>\n",
              "      <td>2020-08-06</td>\n",
              "      <td>602631</td>\n",
              "      <td>Óleo Diesel</td>\n",
              "      <td>ÓLEO DIESEL B S10 COMUM</td>\n",
              "      <td>LITORAL NORTE COMERCIO EIRELI</td>\n",
              "      <td>26.644.707/0001-24</td>\n",
              "      <td>BANDEIRA BRANCA</td>\n",
              "      <td>RUA TREVO DE GENIPABU,01</td>\n",
              "      <td>ANEXO 1-B</td>\n",
              "      <td>GENIPABU</td>\n",
              "      <td>EXTREMOZ</td>\n",
              "      <td>-5.689842</td>\n",
              "      <td>-35.221722</td>\n",
              "      <td>RN</td>\n",
              "      <td>NORDESTE</td>\n",
              "      <td>Aspecto</td>\n",
              "      <td>Turvo e isento de impurezas</td>\n",
              "      <td>NaN</td>\n",
              "      <td>Não</td>\n",
              "      <td>NE</td>\n",
              "    </tr>\n",
              "    <tr>\n",
              "      <th>9841</th>\n",
              "      <td>2021-07-22</td>\n",
              "      <td>692773</td>\n",
              "      <td>Óleo Diesel</td>\n",
              "      <td>ÓLEO DIESEL B S10 COMUM</td>\n",
              "      <td>26644707000124</td>\n",
              "      <td>26.644.707/0001-24</td>\n",
              "      <td>BANDEIRA BRANCA</td>\n",
              "      <td>RUA TREVO DE GENIPABU,01</td>\n",
              "      <td>ANEXO 1-B</td>\n",
              "      <td>GENIPABU</td>\n",
              "      <td>EXTREMOZ</td>\n",
              "      <td>-5.689842</td>\n",
              "      <td>-35.221722</td>\n",
              "      <td>RN</td>\n",
              "      <td>NORDESTE</td>\n",
              "      <td>Aspecto</td>\n",
              "      <td>Turvo e isento de impurezas</td>\n",
              "      <td>NaN</td>\n",
              "      <td>Não</td>\n",
              "      <td>NE</td>\n",
              "    </tr>\n",
              "  </tbody>\n",
              "</table>\n",
              "</div>\n",
              "    <div class=\"colab-df-buttons\">\n",
              "\n",
              "  <div class=\"colab-df-container\">\n",
              "    <button class=\"colab-df-convert\" onclick=\"convertToInteractive('df-ca966960-42e5-40ed-b845-93e83edc7e90')\"\n",
              "            title=\"Convert this dataframe to an interactive table.\"\n",
              "            style=\"display:none;\">\n",
              "\n",
              "  <svg xmlns=\"http://www.w3.org/2000/svg\" height=\"24px\" viewBox=\"0 -960 960 960\">\n",
              "    <path d=\"M120-120v-720h720v720H120Zm60-500h600v-160H180v160Zm220 220h160v-160H400v160Zm0 220h160v-160H400v160ZM180-400h160v-160H180v160Zm440 0h160v-160H620v160ZM180-180h160v-160H180v160Zm440 0h160v-160H620v160Z\"/>\n",
              "  </svg>\n",
              "    </button>\n",
              "\n",
              "  <style>\n",
              "    .colab-df-container {\n",
              "      display:flex;\n",
              "      gap: 12px;\n",
              "    }\n",
              "\n",
              "    .colab-df-convert {\n",
              "      background-color: #E8F0FE;\n",
              "      border: none;\n",
              "      border-radius: 50%;\n",
              "      cursor: pointer;\n",
              "      display: none;\n",
              "      fill: #1967D2;\n",
              "      height: 32px;\n",
              "      padding: 0 0 0 0;\n",
              "      width: 32px;\n",
              "    }\n",
              "\n",
              "    .colab-df-convert:hover {\n",
              "      background-color: #E2EBFA;\n",
              "      box-shadow: 0px 1px 2px rgba(60, 64, 67, 0.3), 0px 1px 3px 1px rgba(60, 64, 67, 0.15);\n",
              "      fill: #174EA6;\n",
              "    }\n",
              "\n",
              "    .colab-df-buttons div {\n",
              "      margin-bottom: 4px;\n",
              "    }\n",
              "\n",
              "    [theme=dark] .colab-df-convert {\n",
              "      background-color: #3B4455;\n",
              "      fill: #D2E3FC;\n",
              "    }\n",
              "\n",
              "    [theme=dark] .colab-df-convert:hover {\n",
              "      background-color: #434B5C;\n",
              "      box-shadow: 0px 1px 3px 1px rgba(0, 0, 0, 0.15);\n",
              "      filter: drop-shadow(0px 1px 2px rgba(0, 0, 0, 0.3));\n",
              "      fill: #FFFFFF;\n",
              "    }\n",
              "  </style>\n",
              "\n",
              "    <script>\n",
              "      const buttonEl =\n",
              "        document.querySelector('#df-ca966960-42e5-40ed-b845-93e83edc7e90 button.colab-df-convert');\n",
              "      buttonEl.style.display =\n",
              "        google.colab.kernel.accessAllowed ? 'block' : 'none';\n",
              "\n",
              "      async function convertToInteractive(key) {\n",
              "        const element = document.querySelector('#df-ca966960-42e5-40ed-b845-93e83edc7e90');\n",
              "        const dataTable =\n",
              "          await google.colab.kernel.invokeFunction('convertToInteractive',\n",
              "                                                    [key], {});\n",
              "        if (!dataTable) return;\n",
              "\n",
              "        const docLinkHtml = 'Like what you see? Visit the ' +\n",
              "          '<a target=\"_blank\" href=https://colab.research.google.com/notebooks/data_table.ipynb>data table notebook</a>'\n",
              "          + ' to learn more about interactive tables.';\n",
              "        element.innerHTML = '';\n",
              "        dataTable['output_type'] = 'display_data';\n",
              "        await google.colab.output.renderOutput(dataTable, element);\n",
              "        const docLink = document.createElement('div');\n",
              "        docLink.innerHTML = docLinkHtml;\n",
              "        element.appendChild(docLink);\n",
              "      }\n",
              "    </script>\n",
              "  </div>\n",
              "\n",
              "\n",
              "<div id=\"df-6b5c32d4-0e19-4502-8268-0d37ede0a0c4\">\n",
              "  <button class=\"colab-df-quickchart\" onclick=\"quickchart('df-6b5c32d4-0e19-4502-8268-0d37ede0a0c4')\"\n",
              "            title=\"Suggest charts\"\n",
              "            style=\"display:none;\">\n",
              "\n",
              "<svg xmlns=\"http://www.w3.org/2000/svg\" height=\"24px\"viewBox=\"0 0 24 24\"\n",
              "     width=\"24px\">\n",
              "    <g>\n",
              "        <path d=\"M19 3H5c-1.1 0-2 .9-2 2v14c0 1.1.9 2 2 2h14c1.1 0 2-.9 2-2V5c0-1.1-.9-2-2-2zM9 17H7v-7h2v7zm4 0h-2V7h2v10zm4 0h-2v-4h2v4z\"/>\n",
              "    </g>\n",
              "</svg>\n",
              "  </button>\n",
              "\n",
              "<style>\n",
              "  .colab-df-quickchart {\n",
              "      --bg-color: #E8F0FE;\n",
              "      --fill-color: #1967D2;\n",
              "      --hover-bg-color: #E2EBFA;\n",
              "      --hover-fill-color: #174EA6;\n",
              "      --disabled-fill-color: #AAA;\n",
              "      --disabled-bg-color: #DDD;\n",
              "  }\n",
              "\n",
              "  [theme=dark] .colab-df-quickchart {\n",
              "      --bg-color: #3B4455;\n",
              "      --fill-color: #D2E3FC;\n",
              "      --hover-bg-color: #434B5C;\n",
              "      --hover-fill-color: #FFFFFF;\n",
              "      --disabled-bg-color: #3B4455;\n",
              "      --disabled-fill-color: #666;\n",
              "  }\n",
              "\n",
              "  .colab-df-quickchart {\n",
              "    background-color: var(--bg-color);\n",
              "    border: none;\n",
              "    border-radius: 50%;\n",
              "    cursor: pointer;\n",
              "    display: none;\n",
              "    fill: var(--fill-color);\n",
              "    height: 32px;\n",
              "    padding: 0;\n",
              "    width: 32px;\n",
              "  }\n",
              "\n",
              "  .colab-df-quickchart:hover {\n",
              "    background-color: var(--hover-bg-color);\n",
              "    box-shadow: 0 1px 2px rgba(60, 64, 67, 0.3), 0 1px 3px 1px rgba(60, 64, 67, 0.15);\n",
              "    fill: var(--button-hover-fill-color);\n",
              "  }\n",
              "\n",
              "  .colab-df-quickchart-complete:disabled,\n",
              "  .colab-df-quickchart-complete:disabled:hover {\n",
              "    background-color: var(--disabled-bg-color);\n",
              "    fill: var(--disabled-fill-color);\n",
              "    box-shadow: none;\n",
              "  }\n",
              "\n",
              "  .colab-df-spinner {\n",
              "    border: 2px solid var(--fill-color);\n",
              "    border-color: transparent;\n",
              "    border-bottom-color: var(--fill-color);\n",
              "    animation:\n",
              "      spin 1s steps(1) infinite;\n",
              "  }\n",
              "\n",
              "  @keyframes spin {\n",
              "    0% {\n",
              "      border-color: transparent;\n",
              "      border-bottom-color: var(--fill-color);\n",
              "      border-left-color: var(--fill-color);\n",
              "    }\n",
              "    20% {\n",
              "      border-color: transparent;\n",
              "      border-left-color: var(--fill-color);\n",
              "      border-top-color: var(--fill-color);\n",
              "    }\n",
              "    30% {\n",
              "      border-color: transparent;\n",
              "      border-left-color: var(--fill-color);\n",
              "      border-top-color: var(--fill-color);\n",
              "      border-right-color: var(--fill-color);\n",
              "    }\n",
              "    40% {\n",
              "      border-color: transparent;\n",
              "      border-right-color: var(--fill-color);\n",
              "      border-top-color: var(--fill-color);\n",
              "    }\n",
              "    60% {\n",
              "      border-color: transparent;\n",
              "      border-right-color: var(--fill-color);\n",
              "    }\n",
              "    80% {\n",
              "      border-color: transparent;\n",
              "      border-right-color: var(--fill-color);\n",
              "      border-bottom-color: var(--fill-color);\n",
              "    }\n",
              "    90% {\n",
              "      border-color: transparent;\n",
              "      border-bottom-color: var(--fill-color);\n",
              "    }\n",
              "  }\n",
              "</style>\n",
              "\n",
              "  <script>\n",
              "    async function quickchart(key) {\n",
              "      const quickchartButtonEl =\n",
              "        document.querySelector('#' + key + ' button');\n",
              "      quickchartButtonEl.disabled = true;  // To prevent multiple clicks.\n",
              "      quickchartButtonEl.classList.add('colab-df-spinner');\n",
              "      try {\n",
              "        const charts = await google.colab.kernel.invokeFunction(\n",
              "            'suggestCharts', [key], {});\n",
              "      } catch (error) {\n",
              "        console.error('Error during call to suggestCharts:', error);\n",
              "      }\n",
              "      quickchartButtonEl.classList.remove('colab-df-spinner');\n",
              "      quickchartButtonEl.classList.add('colab-df-quickchart-complete');\n",
              "    }\n",
              "    (() => {\n",
              "      let quickchartButtonEl =\n",
              "        document.querySelector('#df-6b5c32d4-0e19-4502-8268-0d37ede0a0c4 button');\n",
              "      quickchartButtonEl.style.display =\n",
              "        google.colab.kernel.accessAllowed ? 'block' : 'none';\n",
              "    })();\n",
              "  </script>\n",
              "</div>\n",
              "\n",
              "    </div>\n",
              "  </div>\n"
            ],
            "application/vnd.google.colaboratory.intrinsic+json": {
              "type": "dataframe",
              "repr_error": "'str' object has no attribute 'empty'"
            }
          },
          "metadata": {},
          "execution_count": 83
        }
      ]
    },
    {
      "cell_type": "markdown",
      "source": [
        "# Identifique os municípios com mais amostras não conformes"
      ],
      "metadata": {
        "id": "TnOY7de3Q3t_"
      },
      "id": "TnOY7de3Q3t_"
    },
    {
      "cell_type": "code",
      "source": [
        "municipios_com_problemas = pmqc[[\"IdNumeric\", \"CnpjPosto\", \"Município\", \"Conforme\"]][pmqc.Conforme == \"Não\"].drop_duplicates().groupby('Município').size().sort_values(ascending=False)\n",
        "municipios_com_problemas[municipios_com_problemas>2]"
      ],
      "metadata": {
        "colab": {
          "base_uri": "https://localhost:8080/"
        },
        "id": "9QtvkOscQ-dB",
        "outputId": "bca44c45-adca-42f5-cc01-24c6d3446df4"
      },
      "id": "9QtvkOscQ-dB",
      "execution_count": null,
      "outputs": [
        {
          "output_type": "execute_result",
          "data": {
            "text/plain": [
              "Município\n",
              "SAO PAULO                  21\n",
              "NATAL                      20\n",
              "RIO DE JANEIRO             17\n",
              "JOAO PESSOA                13\n",
              "RECIFE                     11\n",
              "EXTREMOZ                   10\n",
              "PARNAMIRIM                  9\n",
              "DUQUE DE CAXIAS             8\n",
              "CEARA-MIRIM                 7\n",
              "CAMPINA GRANDE              7\n",
              "MOSSORO                     6\n",
              "SAO LUIS                    6\n",
              "BAYEUX                      6\n",
              "MARICA                      6\n",
              "SAO GONCALO                 5\n",
              "GOIANIA                     5\n",
              "TOUROS                      5\n",
              "APARECIDA DE GOIANIA        4\n",
              "PAULISTA                    4\n",
              "ARAPIRACA                   4\n",
              "MACEIO                      4\n",
              "LAGOA DE DENTRO             4\n",
              "CAJAZEIRAS                  4\n",
              "FORTALEZA                   3\n",
              "MACAPA                      3\n",
              "SOUSA                       3\n",
              "MONTE ALEGRE                3\n",
              "ITAPECERICA DA SERRA        3\n",
              "ITAPIRAPUA                  3\n",
              "ACU                         3\n",
              "CAICO                       3\n",
              "SENADOR CANEDO              3\n",
              "CAMPOS DOS GOYTACAZES       3\n",
              "JABOATAO DOS GUARARAPES     3\n",
              "NOVA IGUACU                 3\n",
              "SAO JOSE DE MIPIBU          3\n",
              "SALVADOR                    3\n",
              "dtype: int64"
            ]
          },
          "metadata": {},
          "execution_count": 17
        }
      ]
    }
  ],
  "metadata": {
    "kernelspec": {
      "display_name": "Python 3 (ipykernel)",
      "language": "python",
      "name": "python3"
    },
    "language_info": {
      "codemirror_mode": {
        "name": "ipython",
        "version": 3
      },
      "file_extension": ".py",
      "mimetype": "text/x-python",
      "name": "python",
      "nbconvert_exporter": "python",
      "pygments_lexer": "ipython3",
      "version": "3.11.6"
    },
    "colab": {
      "provenance": []
    }
  },
  "nbformat": 4,
  "nbformat_minor": 5
}